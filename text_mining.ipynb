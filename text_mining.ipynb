{
 "metadata": {
  "language_info": {
   "codemirror_mode": {
    "name": "ipython",
    "version": 3
   },
   "file_extension": ".py",
   "mimetype": "text/x-python",
   "name": "python",
   "nbconvert_exporter": "python",
   "pygments_lexer": "ipython3",
   "version": "3.6.9-final"
  },
  "orig_nbformat": 2,
  "kernelspec": {
   "name": "python3",
   "display_name": "Python 3",
   "language": "python"
  }
 },
 "nbformat": 4,
 "nbformat_minor": 2,
 "cells": [
  {
   "cell_type": "code",
   "execution_count": 54,
   "metadata": {},
   "outputs": [
    {
     "output_type": "stream",
     "name": "stderr",
     "text": [
      "[nltk_data] Downloading package wordnet to\n",
      "[nltk_data]     /home/alexander/nltk_data...\n",
      "[nltk_data]   Unzipping corpora/wordnet.zip.\n"
     ]
    },
    {
     "output_type": "execute_result",
     "data": {
      "text/plain": [
       "True"
      ]
     },
     "metadata": {},
     "execution_count": 54
    }
   ],
   "source": [
    "import nltk\n",
    "\n",
    "nltk.download('wordnet')"
   ]
  },
  {
   "cell_type": "code",
   "execution_count": 27,
   "metadata": {},
   "outputs": [],
   "source": [
    "def trivia_fromDict(dict_obj):\n",
    "    try:\n",
    "        return trivia(\n",
    "            dict_obj[\"question_text\"],\n",
    "            dict_obj[\"choices\"],\n",
    "            dict_obj[\"answer\"],\n",
    "            dict_obj[\"meta\"])\n",
    "    except Exception as e:\n",
    "        print(dict_obj)\n",
    "        raise e\n"
   ]
  },
  {
   "cell_type": "code",
   "execution_count": 41,
   "metadata": {},
   "outputs": [
    {
     "output_type": "stream",
     "name": "stdout",
     "text": [
      "A European style of the late eighteenth and early nineteenth centuries. Its elegant, balanced works revived the order and harmony of ancient Greek and Roman art. : \n\t Neoclassicism (Neoclassicism)\n\"Now is the winter of our discontent\" is a line from which Shakespearian play? : \n\t Richard III (Richard III,Romeo and Juliet,Macbeth)\nquestions: 1950\n"
     ]
    }
   ],
   "source": [
    "import json\n",
    "from trivia_scraper.trivia import trivia\n",
    "\n",
    "all_trivia = None\n",
    "with open(\"data/all.json\",'r') as f:\n",
    "    all_trivia = json.load(f)\n",
    "\n",
    "print(trivia_fromDict(all_trivia[10]))\n",
    "print(trivia_fromDict(all_trivia[0]))\n",
    "print(\"questions:\",len(all_trivia))"
   ]
  },
  {
   "cell_type": "code",
   "execution_count": 29,
   "metadata": {},
   "outputs": [
    {
     "output_type": "execute_result",
     "data": {
      "text/plain": [
       "                                   question_text_raw\n",
       "0  \"Now is the winter of our discontent\" is a lin...\n",
       "1                      \"Our Town\" is a play by whom?\n",
       "2  \"The Diary of Anne Frank\" was first published ...\n",
       "3  A band of painted or sculpted decoration, ofte...\n",
       "4  A composition made of cut and pasted pieces of..."
      ],
      "text/html": "<div>\n<style scoped>\n    .dataframe tbody tr th:only-of-type {\n        vertical-align: middle;\n    }\n\n    .dataframe tbody tr th {\n        vertical-align: top;\n    }\n\n    .dataframe thead th {\n        text-align: right;\n    }\n</style>\n<table border=\"1\" class=\"dataframe\">\n  <thead>\n    <tr style=\"text-align: right;\">\n      <th></th>\n      <th>question_text_raw</th>\n    </tr>\n  </thead>\n  <tbody>\n    <tr>\n      <th>0</th>\n      <td>\"Now is the winter of our discontent\" is a lin...</td>\n    </tr>\n    <tr>\n      <th>1</th>\n      <td>\"Our Town\" is a play by whom?</td>\n    </tr>\n    <tr>\n      <th>2</th>\n      <td>\"The Diary of Anne Frank\" was first published ...</td>\n    </tr>\n    <tr>\n      <th>3</th>\n      <td>A band of painted or sculpted decoration, ofte...</td>\n    </tr>\n    <tr>\n      <th>4</th>\n      <td>A composition made of cut and pasted pieces of...</td>\n    </tr>\n  </tbody>\n</table>\n</div>"
     },
     "metadata": {},
     "execution_count": 29
    }
   ],
   "source": [
    "import pandas as pd\n",
    "\n",
    "question_text_list = [q[\"question_text\"] for q in all_trivia]\n",
    "\n",
    "question_data_frame = pd.DataFrame(question_text_list,columns=[\"question_text_raw\"])\n",
    "question_data_frame.head()"
   ]
  },
  {
   "cell_type": "code",
   "execution_count": 30,
   "metadata": {},
   "outputs": [
    {
     "output_type": "execute_result",
     "data": {
      "text/plain": [
       "                                   question_text_raw  \\\n",
       "0  \"Now is the winter of our discontent\" is a lin...   \n",
       "1                      \"Our Town\" is a play by whom?   \n",
       "2  \"The Diary of Anne Frank\" was first published ...   \n",
       "3  A band of painted or sculpted decoration, ofte...   \n",
       "4  A composition made of cut and pasted pieces of...   \n",
       "\n",
       "                                   question_readable  \n",
       "0  \"Now is the winter of our discontent\" is a lin...  \n",
       "1                      \"Our Town\" is a play by whom?  \n",
       "2  \"The Diary of Anne Frank\" was first published ...  \n",
       "3  A band of painted or sculpted decoration, ofte...  \n",
       "4  A composition made of cut and pasted pieces of...  "
      ],
      "text/html": "<div>\n<style scoped>\n    .dataframe tbody tr th:only-of-type {\n        vertical-align: middle;\n    }\n\n    .dataframe tbody tr th {\n        vertical-align: top;\n    }\n\n    .dataframe thead th {\n        text-align: right;\n    }\n</style>\n<table border=\"1\" class=\"dataframe\">\n  <thead>\n    <tr style=\"text-align: right;\">\n      <th></th>\n      <th>question_text_raw</th>\n      <th>question_readable</th>\n    </tr>\n  </thead>\n  <tbody>\n    <tr>\n      <th>0</th>\n      <td>\"Now is the winter of our discontent\" is a lin...</td>\n      <td>\"Now is the winter of our discontent\" is a lin...</td>\n    </tr>\n    <tr>\n      <th>1</th>\n      <td>\"Our Town\" is a play by whom?</td>\n      <td>\"Our Town\" is a play by whom?</td>\n    </tr>\n    <tr>\n      <th>2</th>\n      <td>\"The Diary of Anne Frank\" was first published ...</td>\n      <td>\"The Diary of Anne Frank\" was first published ...</td>\n    </tr>\n    <tr>\n      <th>3</th>\n      <td>A band of painted or sculpted decoration, ofte...</td>\n      <td>A band of painted or sculpted decoration, ofte...</td>\n    </tr>\n    <tr>\n      <th>4</th>\n      <td>A composition made of cut and pasted pieces of...</td>\n      <td>A composition made of cut and pasted pieces of...</td>\n    </tr>\n  </tbody>\n</table>\n</div>"
     },
     "metadata": {},
     "execution_count": 30
    }
   ],
   "source": [
    "\n",
    "#insert cleaning methods\n",
    "\n",
    "def reading_clean(data):\n",
    "    return data.strip()\n",
    "\n",
    "\n",
    "question_data_frame[\"question_readable\"] = question_data_frame[\"question_text_raw\"].apply(reading_clean)\n",
    "question_data_frame.head()"
   ]
  },
  {
   "cell_type": "code",
   "execution_count": 55,
   "metadata": {},
   "outputs": [
    {
     "output_type": "execute_result",
     "data": {
      "text/plain": [
       "                                   question_text_raw  \\\n",
       "0  \"Now is the winter of our discontent\" is a lin...   \n",
       "1                      \"Our Town\" is a play by whom?   \n",
       "2  \"The Diary of Anne Frank\" was first published ...   \n",
       "3  A band of painted or sculpted decoration, ofte...   \n",
       "4  A composition made of cut and pasted pieces of...   \n",
       "\n",
       "                                   question_readable  \\\n",
       "0  \"Now is the winter of our discontent\" is a lin...   \n",
       "1                      \"Our Town\" is a play by whom?   \n",
       "2  \"The Diary of Anne Frank\" was first published ...   \n",
       "3  A band of painted or sculpted decoration, ofte...   \n",
       "4  A composition made of cut and pasted pieces of...   \n",
       "\n",
       "                                      question_clean  \n",
       "0          winter discontent line shakespearian play  \n",
       "1                                          town play  \n",
       "2     diary anne frank first published english title  \n",
       "3    band painted sculpted decoration often top wall  \n",
       "4  composition made cut pasted piece material som...  "
      ],
      "text/html": "<div>\n<style scoped>\n    .dataframe tbody tr th:only-of-type {\n        vertical-align: middle;\n    }\n\n    .dataframe tbody tr th {\n        vertical-align: top;\n    }\n\n    .dataframe thead th {\n        text-align: right;\n    }\n</style>\n<table border=\"1\" class=\"dataframe\">\n  <thead>\n    <tr style=\"text-align: right;\">\n      <th></th>\n      <th>question_text_raw</th>\n      <th>question_readable</th>\n      <th>question_clean</th>\n    </tr>\n  </thead>\n  <tbody>\n    <tr>\n      <th>0</th>\n      <td>\"Now is the winter of our discontent\" is a lin...</td>\n      <td>\"Now is the winter of our discontent\" is a lin...</td>\n      <td>winter discontent line shakespearian play</td>\n    </tr>\n    <tr>\n      <th>1</th>\n      <td>\"Our Town\" is a play by whom?</td>\n      <td>\"Our Town\" is a play by whom?</td>\n      <td>town play</td>\n    </tr>\n    <tr>\n      <th>2</th>\n      <td>\"The Diary of Anne Frank\" was first published ...</td>\n      <td>\"The Diary of Anne Frank\" was first published ...</td>\n      <td>diary anne frank first published english title</td>\n    </tr>\n    <tr>\n      <th>3</th>\n      <td>A band of painted or sculpted decoration, ofte...</td>\n      <td>A band of painted or sculpted decoration, ofte...</td>\n      <td>band painted sculpted decoration often top wall</td>\n    </tr>\n    <tr>\n      <th>4</th>\n      <td>A composition made of cut and pasted pieces of...</td>\n      <td>A composition made of cut and pasted pieces of...</td>\n      <td>composition made cut pasted piece material som...</td>\n    </tr>\n  </tbody>\n</table>\n</div>"
     },
     "metadata": {},
     "execution_count": 55
    }
   ],
   "source": [
    "\n",
    "from nltk.corpus import stopwords\n",
    "from textblob import Word\n",
    "stop = stopwords.words('english')\n",
    "\n",
    "punctuation = '''!()-[]{};:'\"\\,<>./?@#$%^&*_~“”’'''\n",
    "\n",
    "def lower(data):\n",
    "    return map( lambda x:x.lower() ,data)\n",
    "\n",
    "def remove_punc(data):\n",
    "    for x in punctuation:\n",
    "        data = data.replace(x,'')\n",
    "    return data\n",
    "def drop_stop_words(data):\n",
    "    return \" \".join(x for x in data.split(\" \") if x not in stop)\n",
    "\n",
    "def lemmatization(data):\n",
    "    return \" \".join(Word(x).lemmatize() for x in data.split(\" \"))\n",
    "\n",
    "def clean(data):\n",
    "    data = \"\".join(lower(data))\n",
    "    data = remove_punc(data)\n",
    "    data = drop_stop_words(data)\n",
    "    data = lemmatization(data)\n",
    "    return data\n",
    "\n",
    "question_data_frame[\"question_clean\"] = question_data_frame[\"question_readable\"].apply(clean)\n",
    "question_data_frame.head()"
   ]
  },
  {
   "cell_type": "code",
   "execution_count": 51,
   "metadata": {},
   "outputs": [
    {
     "output_type": "stream",
     "name": "stdout",
     "text": [
      "what      183\nname      157\nwrote      98\nus         95\nthe        91\nfirst      89\nknown      67\nfamous     67\nbook       56\nused       53\ndtype: int64\nfront           1\nmanufacturer    1\ngovernors       1\ncampaign        1\nflushing        1\nportrayed       1\nzuckerberg      1\nsneakers        1\nfries           1\nhomers          1\ndtype: int64\n"
     ]
    }
   ],
   "source": [
    "freq = pd.Series(' '.join(question_data_frame[\"question_clean\"]).split()).value_counts()\n",
    "print(freq[:10])\n",
    "print(freq[-10:])"
   ]
  },
  {
   "cell_type": "code",
   "execution_count": 61,
   "metadata": {},
   "outputs": [],
   "source": [
    "from nltk.corpus import stopwords\n",
    "from sklearn.feature_extraction.text import CountVectorizer\n",
    "\n",
    "quesiton_text = question_data_frame['question_clean'].tolist()\n",
    "\n",
    "stop = stopwords.words('english')\n",
    "\n",
    "cv = CountVectorizer(max_df=0.85,stop_words = stop)\n",
    "cv.fit(quesiton_text)\n",
    "\n",
    "word_count_vector = cv.fit_transform(quesiton_text)\n",
    "\n"
   ]
  },
  {
   "cell_type": "code",
   "execution_count": 62,
   "metadata": {},
   "outputs": [
    {
     "output_type": "stream",
     "name": "stdout",
     "text": [
      "['winter', 'discontent', 'line', 'shakespearian', 'play', 'town', 'diary', 'anne', 'frank', 'first']\n"
     ]
    }
   ],
   "source": [
    "print(list(cv.vocabulary_.keys())[:10])"
   ]
  },
  {
   "cell_type": "code",
   "execution_count": 67,
   "metadata": {},
   "outputs": [
    {
     "output_type": "execute_result",
     "data": {
      "text/plain": [
       "TfidfTransformer()"
      ]
     },
     "metadata": {},
     "execution_count": 67
    }
   ],
   "source": [
    "from sklearn.feature_extraction.text import TfidfTransformer\n",
    "\n",
    "tfidf_transformer = TfidfTransformer(smooth_idf=True,use_idf=True)\n",
    "tfidf_transformer.fit(word_count_vector)\n",
    "\n"
   ]
  },
  {
   "cell_type": "code",
   "execution_count": 75,
   "metadata": {},
   "outputs": [],
   "source": []
  },
  {
   "source": [
    "geting keywords from a document"
   ],
   "cell_type": "markdown",
   "metadata": {}
  },
  {
   "cell_type": "code",
   "execution_count": 74,
   "metadata": {},
   "outputs": [
    {
     "output_type": "stream",
     "name": "stdout",
     "text": [
      "winter discontent line shakespearian play\nshakespearian 0.535\ndiscontent 0.508\nwinter 0.473\nline 0.345\nplay 0.337\n"
     ]
    }
   ],
   "source": [
    "def sort_coo(coo_matrix):\n",
    "    tuples = zip(coo_matrix.col,coo_matrix.data)\n",
    "    return sorted(tuples,key=lambda x:(x[1],x[0]),reverse=True)\n",
    "\n",
    "def extract_topn_from_vector(feature_names,sorted_items,topn = 5):\n",
    "    sorted_items = sorted_items[:topn]\n",
    "\n",
    "    score_values = []\n",
    "    keyword = []\n",
    "\n",
    "    for idx,score in sorted_items:\n",
    "        score_values.append(round(score,3))\n",
    "        keyword.append(feature_names[idx])\n",
    "    \n",
    "    results = {}\n",
    "    for i in range(len(score_values)):\n",
    "        results[keyword[i]] = score_values[i]\n",
    "    return results\n",
    "\n",
    "quesiton_text = question_data_frame['question_clean'].tolist()\n",
    "\n",
    "target_document = quesiton_text[0]\n",
    "\n",
    "\n",
    "\n",
    "tf_idf_vector = tfidf_transformer.transform(cv.transform([target_document]))\n",
    "\n",
    "sorted_items = sort_coo(tf_idf_vector.tocoo())\n",
    "\n",
    "keywords = extract_topn_from_vector(cv.get_feature_names(),sorted_items)\n",
    "\n",
    "\n",
    "print(target_document)\n",
    "for k,v in keywords.items():\n",
    "    print(k,v)"
   ]
  },
  {
   "cell_type": "code",
   "execution_count": null,
   "metadata": {},
   "outputs": [],
   "source": []
  }
 ]
}